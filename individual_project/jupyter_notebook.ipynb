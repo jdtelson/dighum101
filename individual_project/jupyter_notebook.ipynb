{
 "cells": [
  {
   "cell_type": "markdown",
   "metadata": {},
   "source": [
    "# Astrophysics Education from Google Books"
   ]
  },
  {
   "cell_type": "markdown",
   "metadata": {},
   "source": [
    "The humanities strive to gain an understanding of the human condition, and part of that human condition is how we interact with and understand the universe that we live in. Studying outer space allows us to think of the world in a larger context, not only in physical size but also in very long time scales. My goal is to help people understand at least a small part of how interconnected we are with our expansive universe."
   ]
  },
  {
   "cell_type": "markdown",
   "metadata": {},
   "source": [
    "## How accessible is astrophysics education to the public and is interactive education more effective? \n",
    "This question is not simply asking if people have access to astrophysics information, but if that information is communicated in a way that can be easily understood by the common person, rather than the scientific community. It is important for society to understand the universe we live in because being exposed to larger scales of information can encourage people to think in new ways, bringing innovation to all sectors of society."
   ]
  },
  {
   "cell_type": "markdown",
   "metadata": {},
   "source": [
    "## Use Google Books API to search for books online"
   ]
  },
  {
   "cell_type": "code",
   "execution_count": 1,
   "metadata": {},
   "outputs": [],
   "source": [
    "# requests library is necessary for most interaction with the internet in Python\n",
    "# time library will be used to pause the for loop between calls to avoid overloading the server\n",
    "# csv library allows us to create a csv file\n",
    "import requests\n",
    "import time\n",
    "import csv"
   ]
  },
  {
   "cell_type": "code",
   "execution_count": 2,
   "metadata": {},
   "outputs": [],
   "source": [
    "#google books endpoint URL\n",
    "books_url = 'https://www.googleapis.com/books/v1/volumes?'"
   ]
  },
  {
   "cell_type": "code",
   "execution_count": 3,
   "metadata": {},
   "outputs": [],
   "source": [
    "#we don't need all the information in the results dictionary, so let's make a function which can extract the relevent data.\n",
    "\n",
    "def parse_results(results):\n",
    "    \n",
    "    '''parse_results takes in the results variable (dictionary) as an argument and returns a list of dictionaries.\n",
    "    Each dictionary within the list corresponds to a book and has an author key, title, key, publisher key, \n",
    "    and description key'''\n",
    "    \n",
    "    results_list = []\n",
    "\n",
    "    for book in results['items']:\n",
    "\n",
    "        title = book['volumeInfo']['title']\n",
    "\n",
    "        # some books don't have authors, dates, or a description\n",
    "        try:\n",
    "            authors = ','.join(book['volumeInfo']['authors'])\n",
    "        except:\n",
    "            authors = 'NA'\n",
    "        \n",
    "        try:\n",
    "            publisher = book['volumeInfo']['publisher']\n",
    "        except:\n",
    "            publisher = 'NA'\n",
    "\n",
    "        try:\n",
    "            description = book['volumeInfo']['description']\n",
    "        except:\n",
    "            description = \"NA\"\n",
    "\n",
    "        results_dict = {'title': title,\n",
    "                        'authors': authors,\n",
    "                        'description': description,\n",
    "                        'publisher': publisher}\n",
    "        \n",
    "        results_list.append(results_dict)\n",
    "        \n",
    "    return(results_list)"
   ]
  },
  {
   "cell_type": "code",
   "execution_count": 4,
   "metadata": {},
   "outputs": [],
   "source": [
    "def make_csv(query, max_results):\n",
    "    '''make_csv takes in two arguments, query (string) is what you want to search for, \n",
    "    max_results (integer) is the number of result you want to get'''\n",
    "    \n",
    "    #create a dictionary to pass into the get method\n",
    "    parameters = {'q': query, 'maxResults': max_results, 'startIndex': 0}\n",
    "    \n",
    "    #make a get request to the API endpoint\n",
    "    r = requests.get(books_url, params = parameters)\n",
    "    \n",
    "    #use the request object's json method to see the results\n",
    "    results = r.json()\n",
    "\n",
    "    #reassign results to only include the relevent data, using the function parse_results defined below\n",
    "    results2 = parse_results(results)\n",
    "    \n",
    "    #create a for loop to collect the results into all_results\n",
    "    all_results = []\n",
    "    for i in range(5):\n",
    "        print(\"collecting page \" + str(i + 1))\n",
    "        all_results.extend(results2)\n",
    "        time.sleep(1) # very important to not overload API\n",
    "        parameters['startIndex'] += parameters['maxResults']\n",
    "    \n",
    "    #write this data into a csv\n",
    "    keys = all_results[0].keys()\n",
    "    name = query + '_search.csv'\n",
    "    with open(name, 'w') as output_file:\n",
    "        dict_writer = csv.DictWriter(output_file, keys)\n",
    "        dict_writer.writeheader()\n",
    "        dict_writer.writerows(all_results)"
   ]
  },
  {
   "cell_type": "code",
   "execution_count": 5,
   "metadata": {},
   "outputs": [
    {
     "name": "stdout",
     "output_type": "stream",
     "text": [
      "collecting page 1\n",
      "collecting page 2\n",
      "collecting page 3\n",
      "collecting page 4\n",
      "collecting page 5\n"
     ]
    }
   ],
   "source": [
    "make_csv('astrophysics', 20)"
   ]
  },
  {
   "cell_type": "code",
   "execution_count": 6,
   "metadata": {},
   "outputs": [
    {
     "name": "stdout",
     "output_type": "stream",
     "text": [
      "collecting page 1\n",
      "collecting page 2\n",
      "collecting page 3\n",
      "collecting page 4\n",
      "collecting page 5\n"
     ]
    }
   ],
   "source": [
    "make_csv('astronomy', 20)"
   ]
  },
  {
   "cell_type": "code",
   "execution_count": 7,
   "metadata": {},
   "outputs": [
    {
     "name": "stdout",
     "output_type": "stream",
     "text": [
      "collecting page 1\n",
      "collecting page 2\n",
      "collecting page 3\n",
      "collecting page 4\n",
      "collecting page 5\n"
     ]
    }
   ],
   "source": [
    "make_csv('outerspace', 20)"
   ]
  },
  {
   "cell_type": "markdown",
   "metadata": {},
   "source": [
    "## Count Words in Description String of CSV File"
   ]
  },
  {
   "cell_type": "code",
   "execution_count": 8,
   "metadata": {},
   "outputs": [
    {
     "name": "stderr",
     "output_type": "stream",
     "text": [
      "[nltk_data] Downloading package stopwords to\n",
      "[nltk_data]     /Users/Jackie/nltk_data...\n",
      "[nltk_data]   Package stopwords is already up-to-date!\n",
      "[nltk_data] Downloading package averaged_perceptron_tagger to\n",
      "[nltk_data]     /Users/Jackie/nltk_data...\n",
      "[nltk_data]   Package averaged_perceptron_tagger is already up-to-\n",
      "[nltk_data]       date!\n"
     ]
    }
   ],
   "source": [
    "from string import punctuation\n",
    "\n",
    "from collections import Counter\n",
    "\n",
    "import nltk\n",
    "nltk.download(\"stopwords\")\n",
    "nltk.download(\"averaged_perceptron_tagger\")\n",
    "from nltk.corpus import stopwords\n",
    "\n",
    "import spacy\n",
    "\n",
    "import pandas as pd"
   ]
  },
  {
   "cell_type": "code",
   "execution_count": 9,
   "metadata": {},
   "outputs": [],
   "source": [
    "def most_common_words(file_name, number_of_words):\n",
    "    '''most_common_words takes in file_name (string) of a csv file with a descriptions column and \n",
    "    number_of_words (integer) the amount of most common words you want returned. It returns a list \n",
    "    of tuples containing a word and the number of times it appears'''\n",
    "    \n",
    "    file = pd.read_csv(file_name)\n",
    "    \n",
    "    descriptions = [str(file['description'][i]) for i in range(len(file))]\n",
    "    all_descriptions = ''.join(descriptions)\n",
    "    \n",
    "    for char in punctuation:\n",
    "        all_descriptions = all_descriptions.lower().replace(char, '')\n",
    "    \n",
    "    tokens = all_descriptions.split()\n",
    "    no_stops = [word for word in tokens if word not in stopwords.words('english')]\n",
    "    \n",
    "    freq = Counter(no_stops)\n",
    "    return freq.most_common(number_of_words)"
   ]
  },
  {
   "cell_type": "code",
   "execution_count": 10,
   "metadata": {},
   "outputs": [
    {
     "data": {
      "text/plain": [
       "[('astrophysics', 145),\n",
       " ('astronomy', 105),\n",
       " ('physics', 85),\n",
       " ('galaxies', 75),\n",
       " ('stars', 75),\n",
       " ('book', 70),\n",
       " ('students', 60),\n",
       " ('new', 55),\n",
       " ('topics', 50),\n",
       " ('provides', 45),\n",
       " ('subject', 40),\n",
       " ('universe', 40),\n",
       " ('solar', 40),\n",
       " ('space', 40),\n",
       " ('volume', 40),\n",
       " ('astronomical', 35),\n",
       " ('text', 35),\n",
       " ('radiation', 35),\n",
       " ('research', 35),\n",
       " ('structure', 35),\n",
       " ('introduction', 35),\n",
       " ('system', 30),\n",
       " ('cosmic', 30),\n",
       " ('first', 30),\n",
       " ('series', 30),\n",
       " ('stellar', 30),\n",
       " ('edition', 30),\n",
       " ('•', 30),\n",
       " ('evolution', 30),\n",
       " ('planetary', 30)]"
      ]
     },
     "execution_count": 10,
     "metadata": {},
     "output_type": "execute_result"
    }
   ],
   "source": [
    "most_common_words('astrophysics_search.csv', 30)"
   ]
  },
  {
   "cell_type": "code",
   "execution_count": 11,
   "metadata": {
    "scrolled": true
   },
   "outputs": [
    {
     "data": {
      "text/plain": [
       "[('astronomy', 171),\n",
       " ('chapter', 150),\n",
       " ('book', 65),\n",
       " ('appendix', 65),\n",
       " ('planets', 55),\n",
       " ('stars', 45),\n",
       " ('universe', 35),\n",
       " ('astronomical', 35),\n",
       " ('solar', 35),\n",
       " ('astronomers', 30),\n",
       " ('science', 30),\n",
       " ('sky', 30),\n",
       " ('system', 30),\n",
       " ('galaxies', 30),\n",
       " ('work', 30),\n",
       " ('also', 30),\n",
       " ('life', 25),\n",
       " ('students', 25),\n",
       " ('moon', 25),\n",
       " ('physical', 25),\n",
       " ('many', 20),\n",
       " ('help', 20),\n",
       " ('introductory', 20),\n",
       " ('earth', 20),\n",
       " ('introduction', 20),\n",
       " ('space', 20),\n",
       " ('black', 20),\n",
       " ('holes', 20),\n",
       " ('history', 20),\n",
       " ('guide', 20)]"
      ]
     },
     "execution_count": 11,
     "metadata": {},
     "output_type": "execute_result"
    }
   ],
   "source": [
    "most_common_words('astronomy_search.csv', 30)"
   ]
  },
  {
   "cell_type": "code",
   "execution_count": 12,
   "metadata": {},
   "outputs": [
    {
     "data": {
      "text/plain": [
       "[('space', 400),\n",
       " ('outer', 125),\n",
       " ('law', 120),\n",
       " ('air', 115),\n",
       " ('international', 75),\n",
       " ('exploration', 75),\n",
       " ('legal', 65),\n",
       " ('book', 55),\n",
       " ('science', 45),\n",
       " ('committee', 45),\n",
       " ('humans', 45),\n",
       " ('moon', 40),\n",
       " ('issues', 35),\n",
       " ('human', 35),\n",
       " ('activities', 35),\n",
       " ('commercial', 30),\n",
       " ('services', 30),\n",
       " ('transportation', 30),\n",
       " ('one', 25),\n",
       " ('like', 25),\n",
       " ('scientists', 25),\n",
       " ('political', 25),\n",
       " ('us', 25),\n",
       " ('universe', 25),\n",
       " ('first', 25),\n",
       " ('developments', 25),\n",
       " ('sovereignty', 25),\n",
       " ('institute', 25),\n",
       " ('fiction', 20),\n",
       " ('major', 20)]"
      ]
     },
     "execution_count": 12,
     "metadata": {},
     "output_type": "execute_result"
    }
   ],
   "source": [
    "most_common_words('outerspace_search.csv', 30)"
   ]
  },
  {
   "cell_type": "markdown",
   "metadata": {},
   "source": [
    "## Results: Bar Plot of Most Common Words"
   ]
  },
  {
   "cell_type": "code",
   "execution_count": 13,
   "metadata": {},
   "outputs": [
    {
     "data": {
      "image/png": "[encoded data removed]",
      "text/plain": [
       "<Figure size 1080x360 with 1 Axes>"
      ]
     },
     "metadata": {
      "needs_background": "light"
     },
     "output_type": "display_data"
    }
   ],
   "source": [
    "astrophysics = most_common_words('astrophysics_search.csv', 30)\n",
    "astrophysics_df = pd.DataFrame(astrophysics, columns = [\"Word\", \"Frequency\"])\n",
    "astrophysics_df.plot.bar(x = \"Word\", y = \"Frequency\", figsize = (15,5));"
   ]
  },
  {
   "cell_type": "code",
   "execution_count": 14,
   "metadata": {},
   "outputs": [
    {
     "data": {
      "image/png": "[encoded data removed]",
      "text/plain": [
       "<Figure size 1080x360 with 1 Axes>"
      ]
     },
     "metadata": {
      "needs_background": "light"
     },
     "output_type": "display_data"
    }
   ],
   "source": [
    "astronomy = most_common_words('astronomy_search.csv', 30)\n",
    "astronomy_df = pd.DataFrame(astronomy, columns = [\"Word\", \"Frequency\"])\n",
    "astronomy_df.plot.bar(x = \"Word\", y = \"Frequency\", figsize = (15,5));"
   ]
  },
  {
   "cell_type": "code",
   "execution_count": 15,
   "metadata": {},
   "outputs": [
    {
     "data": {
      "image/png": "[encoded data removed]",
      "text/plain": [
       "<Figure size 1080x360 with 1 Axes>"
      ]
     },
     "metadata": {
      "needs_background": "light"
     },
     "output_type": "display_data"
    }
   ],
   "source": [
    "outerspace = most_common_words('outerspace_search.csv', 30)\n",
    "outerspace_df = pd.DataFrame(outerspace, columns = [\"Word\", \"Frequency\"])\n",
    "outerspace_df.plot.bar(x = \"Word\", y = \"Frequency\", figsize = (15,5));"
   ]
  },
  {
   "cell_type": "markdown",
   "metadata": {},
   "source": [
    "## Discussion\n",
    "As seen in the results, the majority of the most common words are understandable to the common person. I have seperated words that most likely refer to low level topics and words that most likely refer to high level topics into lists below. The classifications that I have made to seperate these words are assumptions based on my personal knowledge as an astrophysics student and researcher.\n",
    "\n",
    "Through looking for education resources on Google Books, it can be seen through counting types of words that there are a majority of books which should be understandable to someone outside of the astrophysics field. "
   ]
  },
  {
   "cell_type": "code",
   "execution_count": 20,
   "metadata": {},
   "outputs": [
    {
     "name": "stdout",
     "output_type": "stream",
     "text": [
      "number of words refering to LOW level topics: 29\n",
      "number of words refering to HIGH level topics: 6\n"
     ]
    }
   ],
   "source": [
    "low_level = ['planets', 'stars', 'universe', 'astronomical', 'solar', 'science', 'sky', 'system', 'galaxies', \n",
    "             'life', 'astronomers', 'moon', 'earth', 'space', 'physical', 'energy', 'solar', 'space', 'air', \n",
    "             'international', 'exploration', 'humans', 'moon', 'commercial', 'transportation', 'political', \n",
    "             'introductory', 'students', 'introduction']\n",
    "high_level = ['black hole', 'supernova', 'cosmic', 'radiation', 'stellar', 'legal']\n",
    "\n",
    "print('number of words refering to LOW level topics: ' + str(len(low_level)))\n",
    "print('number of words refering to HIGH level topics: ' + str(len(high_level)))"
   ]
  },
  {
   "cell_type": "markdown",
   "metadata": {},
   "source": [
    "However, reading online books is only one form of education. Interactive education can be much more understandable and effective for beginners. I will explore this idea of the effectiveness of interactive education by having my peers interact with an online visualization of the [scale of the universe](https://scaleofuniverse.com/). I then gathered responses from my peers through [this Google Form](https://docs.google.com/forms/d/e/1FAIpQLSfm89AJ5sIGaAaMiyGKu1ynyF0qKeiTogjYi9LEMUi-kV5XXg/viewform?usp=sf_link). Below are the responses from my peers after interacting with the visualization. "
   ]
  },
  {
   "cell_type": "code",
   "execution_count": null,
   "metadata": {},
   "outputs": [],
   "source": []
  }
 ],
 "metadata": {
  "kernelspec": {
   "display_name": "Python 3",
   "language": "python",
   "name": "python3"
  },
  "language_info": {
   "codemirror_mode": {
    "name": "ipython",
    "version": 3
   },
   "file_extension": ".py",
   "mimetype": "text/x-python",
   "name": "python",
   "nbconvert_exporter": "python",
   "pygments_lexer": "ipython3",
   "version": "3.7.6"
  }
 },
 "nbformat": 4,
 "nbformat_minor": 4
}
