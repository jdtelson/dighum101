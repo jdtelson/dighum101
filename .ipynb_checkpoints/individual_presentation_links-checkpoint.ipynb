{
 "cells": [
  {
   "cell_type": "markdown",
   "metadata": {},
   "source": [
    "# Individual Presentation Links\n",
    "\n",
    "### \"The Scale of the Universe\" Interactive Visualization\n",
    "https://scaleofuniverse.com/\n",
    "\n",
    "### Reflection Poll\n",
    "https://docs.google.com/forms/d/e/1FAIpQLSfm89AJ5sIGaAaMiyGKu1ynyF0qKeiTogjYi9LEMUi-kV5XXg/viewform?usp=sf_link"
   ]
  }
 ],
 "metadata": {
  "kernelspec": {
   "display_name": "Python 3",
   "language": "python",
   "name": "python3"
  },
  "language_info": {
   "codemirror_mode": {
    "name": "ipython",
    "version": 3
   },
   "file_extension": ".py",
   "mimetype": "text/x-python",
   "name": "python",
   "nbconvert_exporter": "python",
   "pygments_lexer": "ipython3",
   "version": "3.7.6"
  }
 },
 "nbformat": 4,
 "nbformat_minor": 4
}
